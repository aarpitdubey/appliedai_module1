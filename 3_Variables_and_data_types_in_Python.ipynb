{
  "cells": [
    {
      "cell_type": "markdown",
      "metadata": {
        "id": "view-in-github",
        "colab_type": "text"
      },
      "source": [
        "<a href=\"https://colab.research.google.com/github/aarpitdubey/appliedai_module1/blob/main/3_Variables_and_data_types_in_Python.ipynb\" target=\"_parent\"><img src=\"https://colab.research.google.com/assets/colab-badge.svg\" alt=\"Open In Colab\"/></a>"
      ]
    },
    {
      "cell_type": "markdown",
      "metadata": {
        "id": "iqPgYMc0jucZ"
      },
      "source": [
        "# Variables"
      ]
    },
    {
      "cell_type": "markdown",
      "metadata": {
        "id": "RRS5OQ1njucc"
      },
      "source": [
        "A variable is a location in memory used to store some data (value).\n",
        "\n",
        "They are given unique names to differentiate between different memory locations. The rules for writing a variable name is same as the rules for writing identifiers in Python.\n",
        "\n",
        "We don't need to declare a variable before using it. In Python, we simply assign a value to a variable and it will exist. We don't even have to declare the type of the variable. This is handled internally according to the type of value we assign to the variable."
      ]
    },
    {
      "cell_type": "markdown",
      "metadata": {
        "id": "7TRuXIIZjucd"
      },
      "source": [
        "# Variable Assignments"
      ]
    },
    {
      "cell_type": "code",
      "execution_count": 1,
      "metadata": {
        "collapsed": true,
        "id": "a0k-4oqFjucd"
      },
      "outputs": [],
      "source": [
        "#We use the assignment operator (=) to assign values to a variable\n",
        "\n",
        "a = 10\n",
        "b = 5.5\n",
        "c = \"ML\""
      ]
    },
    {
      "cell_type": "markdown",
      "metadata": {
        "id": "-t0Q80vvjuce"
      },
      "source": [
        "# Multiple Assignments"
      ]
    },
    {
      "cell_type": "code",
      "execution_count": 2,
      "metadata": {
        "collapsed": true,
        "id": "0m77jpvajucf"
      },
      "outputs": [],
      "source": [
        "a, b, c = 10, 5.5, \"ML\""
      ]
    },
    {
      "cell_type": "code",
      "execution_count": 3,
      "metadata": {
        "collapsed": true,
        "id": "htISY1axjucf"
      },
      "outputs": [],
      "source": [
        "a = b = c = \"AI\" #assign the same value to multiple variables at once"
      ]
    },
    {
      "cell_type": "markdown",
      "metadata": {
        "id": "pibGXR-Qjucg"
      },
      "source": [
        "# Storage Locations"
      ]
    },
    {
      "cell_type": "code",
      "execution_count": 4,
      "metadata": {
        "colab": {
          "base_uri": "https://localhost:8080/"
        },
        "id": "h-bAg6xljucg",
        "outputId": "58da70d5-03e8-4b60-ff8f-5019c0cdfd6c"
      },
      "outputs": [
        {
          "output_type": "stream",
          "name": "stdout",
          "text": [
            "94536315226688\n"
          ]
        }
      ],
      "source": [
        "x = 3\n",
        "\n",
        "print(id(x))               #print address of variable x"
      ]
    },
    {
      "cell_type": "code",
      "execution_count": 5,
      "metadata": {
        "colab": {
          "base_uri": "https://localhost:8080/"
        },
        "id": "lIGm5y6Sjuch",
        "outputId": "ee1936d9-540c-4367-9a16-8380dbcfa3b0"
      },
      "outputs": [
        {
          "output_type": "stream",
          "name": "stdout",
          "text": [
            "94536315226688\n"
          ]
        }
      ],
      "source": [
        "y = 3\n",
        "\n",
        "print(id(y))               #print address of variable y"
      ]
    },
    {
      "cell_type": "markdown",
      "metadata": {
        "id": "H6Bsx3t9juci"
      },
      "source": [
        "Observation:\n",
        "\n",
        "x and y points to same memory location\n",
        "    "
      ]
    },
    {
      "cell_type": "code",
      "execution_count": 6,
      "metadata": {
        "colab": {
          "base_uri": "https://localhost:8080/"
        },
        "id": "_OYnC-vkjuci",
        "outputId": "027bcf8a-40c0-4139-8585-035ff5229734"
      },
      "outputs": [
        {
          "output_type": "stream",
          "name": "stdout",
          "text": [
            "94536315226656\n"
          ]
        }
      ],
      "source": [
        "y = 2\n",
        "print(id(y))               #print address of variable y"
      ]
    },
    {
      "cell_type": "markdown",
      "metadata": {
        "id": "mOybDMpEjuci"
      },
      "source": [
        "# Data Types "
      ]
    },
    {
      "cell_type": "markdown",
      "metadata": {
        "id": "j_QwBVJejucj"
      },
      "source": [
        "Every value in Python has a datatype. Since everything is an object in Python programming, data types are actually classes and variables are instance (object) of these classes."
      ]
    },
    {
      "cell_type": "markdown",
      "metadata": {
        "id": "EDYGP67ljucj"
      },
      "source": [
        "# Numbers"
      ]
    },
    {
      "cell_type": "markdown",
      "metadata": {
        "id": "GtKqeZ5mjucj"
      },
      "source": [
        "Integers, floating point numbers and complex numbers falls under Python numbers category. They are defined as int, float and complex class in Python.\n",
        "\n",
        "We can use the type() function to know which class a variable or a value belongs to and the isinstance() function to check if an object belongs to a particular class."
      ]
    },
    {
      "cell_type": "code",
      "execution_count": 7,
      "metadata": {
        "colab": {
          "base_uri": "https://localhost:8080/"
        },
        "id": "g-yfOO4qjucj",
        "outputId": "4be6531d-805a-4bb4-ee0e-93b4728f3424"
      },
      "outputs": [
        {
          "output_type": "stream",
          "name": "stdout",
          "text": [
            "5  is of type <class 'int'>\n"
          ]
        }
      ],
      "source": [
        "a = 5                               #data type is implicitly set to integer\n",
        "print(a, \" is of type\", type(a))"
      ]
    },
    {
      "cell_type": "code",
      "execution_count": 8,
      "metadata": {
        "colab": {
          "base_uri": "https://localhost:8080/"
        },
        "id": "fufqAI9jjucj",
        "outputId": "e9cb519e-8184-4671-f90b-cbf2c8c31499"
      },
      "outputs": [
        {
          "output_type": "stream",
          "name": "stdout",
          "text": [
            "2.5  is of type <class 'float'>\n"
          ]
        }
      ],
      "source": [
        "a = 2.5                            #data type is changed to float\n",
        "print(a, \" is of type\", type(a))"
      ]
    },
    {
      "cell_type": "code",
      "execution_count": 9,
      "metadata": {
        "colab": {
          "base_uri": "https://localhost:8080/"
        },
        "id": "SA2fNmdnjuck",
        "outputId": "819691cf-fef8-4422-c94a-6ddb8fd68987"
      },
      "outputs": [
        {
          "output_type": "stream",
          "name": "stdout",
          "text": [
            "(1+2j)  is complex number?\n",
            "True\n"
          ]
        }
      ],
      "source": [
        "a = 1 + 2j                          #data type is changed to complex number\n",
        "print(a, \" is complex number?\") \n",
        "print(isinstance(1+2j, complex))"
      ]
    },
    {
      "cell_type": "markdown",
      "metadata": {
        "id": "m_j-TRbojuck"
      },
      "source": [
        "# Boolean"
      ]
    },
    {
      "cell_type": "markdown",
      "metadata": {
        "id": "S8hbncPTjuck"
      },
      "source": [
        " Boolean represents the truth values False and True"
      ]
    },
    {
      "cell_type": "code",
      "execution_count": 10,
      "metadata": {
        "colab": {
          "base_uri": "https://localhost:8080/"
        },
        "id": "aXGEV-n7juck",
        "outputId": "32ff6961-3997-4d92-dc03-806de57a76d7"
      },
      "outputs": [
        {
          "output_type": "stream",
          "name": "stdout",
          "text": [
            "<class 'bool'>\n"
          ]
        }
      ],
      "source": [
        "a = True                          #a is a boolean type\n",
        "print(type(a))"
      ]
    },
    {
      "cell_type": "markdown",
      "metadata": {
        "id": "__Odp6hqjucl"
      },
      "source": [
        "# Python Strings"
      ]
    },
    {
      "cell_type": "markdown",
      "metadata": {
        "id": "9rNEcfC_jucl"
      },
      "source": [
        "String is sequence of Unicode characters. \n",
        "\n",
        "We can use single quotes or double quotes to represent strings. \n",
        "\n",
        "Multi-line strings can be denoted using triple quotes, ''' or \"\"\"."
      ]
    },
    {
      "cell_type": "markdown",
      "metadata": {
        "id": "25Io5he7jucl"
      },
      "source": [
        "A string in Python consists of a series or sequence of characters - letters, numbers, and special characters. \n",
        "\n",
        "Strings can be indexed - often synonymously called subscripted as well. \n",
        "\n",
        "Similar to C, the first character of a string has the index 0."
      ]
    },
    {
      "cell_type": "code",
      "execution_count": 11,
      "metadata": {
        "colab": {
          "base_uri": "https://localhost:8080/"
        },
        "id": "it30DCJ1jucl",
        "outputId": "d338b343-a301-4fa4-831f-a20d10b75515"
      },
      "outputs": [
        {
          "output_type": "stream",
          "name": "stdout",
          "text": [
            "This is Online AI course\n"
          ]
        }
      ],
      "source": [
        "s = \"This is Online AI course\"\n",
        "print(s)"
      ]
    },
    {
      "cell_type": "code",
      "execution_count": 12,
      "metadata": {
        "colab": {
          "base_uri": "https://localhost:8080/"
        },
        "id": "D9IXj1EPjucl",
        "outputId": "3d67cb5e-e189-4490-d6f5-3199913d0723"
      },
      "outputs": [
        {
          "output_type": "stream",
          "name": "stdout",
          "text": [
            "T\n"
          ]
        }
      ],
      "source": [
        "print(s[0])\n",
        "#last char s[len(s)-1] or s[-1]"
      ]
    },
    {
      "cell_type": "code",
      "execution_count": 13,
      "metadata": {
        "colab": {
          "base_uri": "https://localhost:8080/",
          "height": 35
        },
        "id": "15ZZbnMMjucm",
        "outputId": "0611f0ce-fb94-4f19-f73b-fbbdd52a8e17"
      },
      "outputs": [
        {
          "output_type": "execute_result",
          "data": {
            "application/vnd.google.colaboratory.intrinsic+json": {
              "type": "string"
            },
            "text/plain": [
              "'is Online AI course'"
            ]
          },
          "metadata": {},
          "execution_count": 13
        }
      ],
      "source": [
        "#slicing\n",
        "s[5:]"
      ]
    },
    {
      "cell_type": "markdown",
      "metadata": {
        "id": "ukoApg1tjucm"
      },
      "source": [
        "# Python List"
      ]
    },
    {
      "cell_type": "markdown",
      "metadata": {
        "id": "xsJXoO52jucm"
      },
      "source": [
        "List is an ordered sequence of items. It is one of the most used datatype in Python and is very flexible. All the items in a list do not need to be of the same type.\n",
        "\n",
        "Declaring a list is , Items separated by commas are enclosed within brackets [ ]."
      ]
    },
    {
      "cell_type": "code",
      "execution_count": 14,
      "metadata": {
        "colab": {
          "base_uri": "https://localhost:8080/"
        },
        "id": "1I7EliMWjucm",
        "outputId": "ddb83c96-5ca4-41cf-d466-23a8f9ba72b3"
      },
      "outputs": [
        {
          "output_type": "stream",
          "name": "stdout",
          "text": [
            "20.5\n"
          ]
        }
      ],
      "source": [
        "a = [10, 20.5, \"Hello\"]\n",
        "print(a[1])               #print 1st index element"
      ]
    },
    {
      "cell_type": "markdown",
      "metadata": {
        "id": "5lxCnnv6jucm"
      },
      "source": [
        "Lists are mutable, meaning, value of elements of a list can be altered."
      ]
    },
    {
      "cell_type": "code",
      "execution_count": 15,
      "metadata": {
        "colab": {
          "base_uri": "https://localhost:8080/"
        },
        "id": "81ewPtiSjucm",
        "outputId": "74b8798b-4820-4b1e-cfea-cd31ecd74d92"
      },
      "outputs": [
        {
          "output_type": "stream",
          "name": "stdout",
          "text": [
            "[10, 30.7, 'Hello']\n"
          ]
        }
      ],
      "source": [
        "a[1] = 30.7\n",
        "print(a)"
      ]
    },
    {
      "cell_type": "markdown",
      "metadata": {
        "id": "gW7lUA-Ejucn"
      },
      "source": [
        "# Python Tuple"
      ]
    },
    {
      "cell_type": "markdown",
      "metadata": {
        "id": "rEqOi4r8jucn"
      },
      "source": [
        "Tuple is an ordered sequence of items same as list.The only difference is that tuples are immutable. Tuples once created cannot be modified."
      ]
    },
    {
      "cell_type": "code",
      "execution_count": 16,
      "metadata": {
        "collapsed": true,
        "id": "88ymtoLnjucn"
      },
      "outputs": [],
      "source": [
        "t = (1, 1.5, \"ML\")"
      ]
    },
    {
      "cell_type": "code",
      "execution_count": 17,
      "metadata": {
        "colab": {
          "base_uri": "https://localhost:8080/"
        },
        "id": "8uW8-qB8jucn",
        "outputId": "929686d3-6f2c-4061-ae2d-e6453674d552"
      },
      "outputs": [
        {
          "output_type": "stream",
          "name": "stdout",
          "text": [
            "1.5\n"
          ]
        }
      ],
      "source": [
        "print(t[1]) #extract particular element"
      ]
    },
    {
      "cell_type": "code",
      "execution_count": 18,
      "metadata": {
        "id": "Lpdgbvmljucn"
      },
      "outputs": [],
      "source": [
        "#t[1] = 1.25  # ====> It will gives type error because tuples are immutables\n",
        "\n",
        "#Error:\n",
        "# TypeError                                 Traceback (most recent call last)\n",
        "# <ipython-input-18-826a3e5c5c91> in <module>()\n",
        "# ----> 1 t[1] = 1.25\n",
        "\n",
        "# TypeError: 'tuple' object does not support item assignment"
      ]
    },
    {
      "cell_type": "markdown",
      "metadata": {
        "id": "YokCQC9njucn"
      },
      "source": [
        "# Python Set"
      ]
    },
    {
      "cell_type": "markdown",
      "metadata": {
        "id": "OQOeoQxFjucn"
      },
      "source": [
        "Set is an unordered collection of unique items. Set is defined by values separated by comma inside braces { }. Items in a set are not ordered."
      ]
    },
    {
      "cell_type": "code",
      "execution_count": 19,
      "metadata": {
        "colab": {
          "base_uri": "https://localhost:8080/"
        },
        "id": "s1Z4gUOhjuco",
        "outputId": "c54798d4-b194-46a9-8408-6f8d45fc4d3b"
      },
      "outputs": [
        {
          "output_type": "stream",
          "name": "stdout",
          "text": [
            "{5, 40, 10, 20, 30}\n"
          ]
        }
      ],
      "source": [
        "a = {10, 30, 20, 40, 5}\n",
        "print(a)"
      ]
    },
    {
      "cell_type": "code",
      "execution_count": 20,
      "metadata": {
        "colab": {
          "base_uri": "https://localhost:8080/"
        },
        "id": "masLh2Evjuco",
        "outputId": "76b7f5df-5bd6-4172-f606-0d00bf6e5d80"
      },
      "outputs": [
        {
          "output_type": "stream",
          "name": "stdout",
          "text": [
            "<class 'set'>\n"
          ]
        }
      ],
      "source": [
        "print(type(a))             #print type of a"
      ]
    },
    {
      "cell_type": "markdown",
      "metadata": {
        "id": "W4rU-Yvgjuco"
      },
      "source": [
        "We can perform set operations like union, intersection on two sets. Set have unique values."
      ]
    },
    {
      "cell_type": "code",
      "execution_count": 21,
      "metadata": {
        "colab": {
          "base_uri": "https://localhost:8080/"
        },
        "id": "1Bfa64SCjuco",
        "outputId": "04dbeb56-a98c-4d7a-d4a1-f7c3000ee81a"
      },
      "outputs": [
        {
          "output_type": "stream",
          "name": "stdout",
          "text": [
            "{10, 20, 30}\n"
          ]
        }
      ],
      "source": [
        "s = {10, 20, 20, 30, 30, 30}\n",
        "print(s)                    #automatically set won't consider duplicate elements"
      ]
    },
    {
      "cell_type": "code",
      "execution_count": 22,
      "metadata": {
        "id": "QonHx4d8juco"
      },
      "outputs": [],
      "source": [
        "# print(s[1]) #we can't print particular element in set because \n",
        "            #it's unorder collections of items\n",
        "\n",
        "# Error:\n",
        "# TypeError                                 Traceback (most recent call last)\n",
        "# <ipython-input-23-3e2f312e6983> in <module>()\n",
        "# ----> 1 print(s[1]) #we can't print particular element in set because\n",
        "#       2             #it's unorder collections of items\n",
        "\n",
        "# TypeError: 'set' object is not subscriptable"
      ]
    },
    {
      "cell_type": "markdown",
      "metadata": {
        "id": "NKM4lVJvjuco"
      },
      "source": [
        "# Python Dictionary"
      ]
    },
    {
      "cell_type": "markdown",
      "metadata": {
        "id": "j6O0fg3djuco"
      },
      "source": [
        "Dictionary is an unordered collection of key-value pairs."
      ]
    },
    {
      "cell_type": "markdown",
      "metadata": {
        "id": "DozWvAaBjucp"
      },
      "source": [
        "In Python, dictionaries are defined within braces {} with each item being a pair in the form key:value. Key and value can be of any type."
      ]
    },
    {
      "cell_type": "code",
      "execution_count": 23,
      "metadata": {
        "colab": {
          "base_uri": "https://localhost:8080/"
        },
        "id": "gnDpf_TFjucp",
        "outputId": "efd6434f-71fe-4cdf-f9e5-9f49f9224313"
      },
      "outputs": [
        {
          "output_type": "stream",
          "name": "stdout",
          "text": [
            "apple\n"
          ]
        }
      ],
      "source": [
        "d = {'a': \"apple\", 'b': \"bat\"}\n",
        "print( d['a'])"
      ]
    },
    {
      "cell_type": "markdown",
      "metadata": {
        "id": "qcDEzGFAjucp"
      },
      "source": [
        "# Conversion between Datatypes"
      ]
    },
    {
      "cell_type": "markdown",
      "metadata": {
        "id": "n-yIkB-Xjucp"
      },
      "source": [
        "We can convert between different data types by using different type conversion functions like int(), float(), str() etc."
      ]
    },
    {
      "cell_type": "code",
      "execution_count": 24,
      "metadata": {
        "colab": {
          "base_uri": "https://localhost:8080/"
        },
        "id": "Kn5wNaasjucp",
        "outputId": "5acfa5fc-d85b-4db9-8b24-673f6aacf9d1"
      },
      "outputs": [
        {
          "output_type": "execute_result",
          "data": {
            "text/plain": [
              "5.0"
            ]
          },
          "metadata": {},
          "execution_count": 24
        }
      ],
      "source": [
        "float(5)     #convert interger to float using float() method"
      ]
    },
    {
      "cell_type": "code",
      "execution_count": 25,
      "metadata": {
        "colab": {
          "base_uri": "https://localhost:8080/"
        },
        "id": "9iazPDyTjucp",
        "outputId": "485d2317-45d8-4a15-bd31-5d659492672d"
      },
      "outputs": [
        {
          "output_type": "execute_result",
          "data": {
            "text/plain": [
              "100"
            ]
          },
          "metadata": {},
          "execution_count": 25
        }
      ],
      "source": [
        "int(100.5)   #convert float to integer using int() method"
      ]
    },
    {
      "cell_type": "code",
      "execution_count": 26,
      "metadata": {
        "colab": {
          "base_uri": "https://localhost:8080/",
          "height": 35
        },
        "id": "RI58xSz5jucp",
        "outputId": "f06ff31a-29b7-4064-e958-0104e2e26774"
      },
      "outputs": [
        {
          "output_type": "execute_result",
          "data": {
            "application/vnd.google.colaboratory.intrinsic+json": {
              "type": "string"
            },
            "text/plain": [
              "'20'"
            ]
          },
          "metadata": {},
          "execution_count": 26
        }
      ],
      "source": [
        "str(20)      #convert integer to string"
      ]
    },
    {
      "cell_type": "markdown",
      "metadata": {
        "id": "DbsArTDejucp"
      },
      "source": [
        "Conversion to and from string must contain compatible values."
      ]
    },
    {
      "cell_type": "code",
      "execution_count": 27,
      "metadata": {
        "id": "UdtgWH2ejucq"
      },
      "outputs": [],
      "source": [
        "# int('10p')              ========> 10p is an invalid input for int() function\n",
        "\n",
        "\n",
        "#Error:\n",
        "# ValueError                                Traceback (most recent call last)\n",
        "# <ipython-input-30-8bb83f613c14> in <module>()\n",
        "# ----> 1 int('10p')\n",
        "\n",
        "# ValueError: invalid literal for int() with base 10: '10p'"
      ]
    },
    {
      "cell_type": "code",
      "execution_count": 28,
      "metadata": {
        "colab": {
          "base_uri": "https://localhost:8080/"
        },
        "id": "GlBUn0cHjucq",
        "outputId": "2c541acd-1658-43ea-91ef-67b9b0fcee67"
      },
      "outputs": [
        {
          "output_type": "stream",
          "name": "stdout",
          "text": [
            "Congratulations, Arpit! You just wrote 100 lines of code\n"
          ]
        }
      ],
      "source": [
        "user = \"Arpit\"\n",
        "lines = 100\n",
        "\n",
        "print(\"Congratulations, \" + user + \"! You just wrote \" + str(lines) + \" lines of code\" )\n",
        "#remove str and gives error"
      ]
    },
    {
      "cell_type": "markdown",
      "metadata": {
        "id": "LRYWDC-8jucq"
      },
      "source": [
        "We can convert one sequence to other"
      ]
    },
    {
      "cell_type": "code",
      "execution_count": 29,
      "metadata": {
        "colab": {
          "base_uri": "https://localhost:8080/"
        },
        "id": "1zpHE0Cyjucq",
        "outputId": "a7e9d19e-389b-4255-e6d7-e8422c5b97ef"
      },
      "outputs": [
        {
          "output_type": "stream",
          "name": "stdout",
          "text": [
            "<class 'list'>\n",
            "<class 'set'>\n"
          ]
        }
      ],
      "source": [
        "a = [1, 2, 3]\n",
        "\n",
        "print(type(a))      #type of a is list \n",
        "\n",
        "s = set(a)          #convert list to set using set() method\n",
        "\n",
        "print(type(s))      #now type of s is set"
      ]
    },
    {
      "cell_type": "code",
      "execution_count": 30,
      "metadata": {
        "colab": {
          "base_uri": "https://localhost:8080/"
        },
        "id": "6HnA3pSEjucq",
        "outputId": "8d8e45b0-6c3a-4da0-d1a7-23b71d973fca"
      },
      "outputs": [
        {
          "output_type": "execute_result",
          "data": {
            "text/plain": [
              "['H', 'e', 'l', 'l', 'o']"
            ]
          },
          "metadata": {},
          "execution_count": 30
        }
      ],
      "source": [
        "list(\"Hello\")       #convert String to list using list() method"
      ]
    }
  ],
  "metadata": {
    "kernelspec": {
      "display_name": "Python 2",
      "language": "python",
      "name": "python2"
    },
    "language_info": {
      "codemirror_mode": {
        "name": "ipython",
        "version": 2
      },
      "file_extension": ".py",
      "mimetype": "text/x-python",
      "name": "python",
      "nbconvert_exporter": "python",
      "pygments_lexer": "ipython2",
      "version": "2.7.10"
    },
    "colab": {
      "name": "3. Variables and data types in Python.ipynb",
      "provenance": [],
      "include_colab_link": true
    }
  },
  "nbformat": 4,
  "nbformat_minor": 0
}