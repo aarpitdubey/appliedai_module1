{
  "cells": [
    {
      "cell_type": "markdown",
      "metadata": {
        "id": "view-in-github",
        "colab_type": "text"
      },
      "source": [
        "<a href=\"https://colab.research.google.com/github/aarpitdubey/appliedai_module1/blob/main/2_comments%2C_indentation_and_statements.ipynb\" target=\"_parent\"><img src=\"https://colab.research.google.com/assets/colab-badge.svg\" alt=\"Open In Colab\"/></a>"
      ]
    },
    {
      "cell_type": "markdown",
      "metadata": {
        "id": "BW5V-kBxhxCl"
      },
      "source": [
        "# Python Comments"
      ]
    },
    {
      "cell_type": "markdown",
      "metadata": {
        "id": "RaNt_wN8hxCo"
      },
      "source": [
        "Comments are lines that exist in computer programs that are ignored by compilers and interpreters. \n",
        "\n",
        "Including comments in programs makes code more readable for humans as it provides some information or explanation about what each part of a program is doing.\n",
        "\n",
        "In general, it is a good idea to write comments while you are writing or updating a program as it is easy to forget your thought process later on, and comments written later may be less useful in the long term. "
      ]
    },
    {
      "cell_type": "markdown",
      "metadata": {
        "id": "-vmVzh3ohxCp"
      },
      "source": [
        "In Python, we use the hash (#) symbol to start writing a comment."
      ]
    },
    {
      "cell_type": "code",
      "execution_count": 1,
      "metadata": {
        "colab": {
          "base_uri": "https://localhost:8080/"
        },
        "id": "z0NmL3wxhxCq",
        "outputId": "d551a085-ace6-4c3b-8887-054840530336"
      },
      "outputs": [
        {
          "output_type": "stream",
          "name": "stdout",
          "text": [
            "Hello, world\n"
          ]
        }
      ],
      "source": [
        "#Print Hello, world to console\n",
        "print(\"Hello, world\")"
      ]
    },
    {
      "cell_type": "markdown",
      "metadata": {
        "id": "MDF2DmhmhxCr"
      },
      "source": [
        "# Multi Line Comments"
      ]
    },
    {
      "cell_type": "markdown",
      "metadata": {
        "id": "_Ml6karrhxCs"
      },
      "source": [
        "If we have comments that extend multiple lines, one way of doing it is to use hash (#) in the beginning of each line."
      ]
    },
    {
      "cell_type": "code",
      "execution_count": 2,
      "metadata": {
        "collapsed": true,
        "id": "3bq1i0BdhxCs"
      },
      "outputs": [],
      "source": [
        "#This is a long comment\n",
        "#and it extends \n",
        "#Multiple lines"
      ]
    },
    {
      "cell_type": "markdown",
      "metadata": {
        "id": "8ZwS0R8xhxCt"
      },
      "source": [
        "Another way of doing this is to use triple quotes, either ''' or \"\"\"."
      ]
    },
    {
      "cell_type": "code",
      "execution_count": 3,
      "metadata": {
        "colab": {
          "base_uri": "https://localhost:8080/",
          "height": 35
        },
        "id": "oHISZ11KhxCt",
        "outputId": "baacb421-f52d-40b3-d1de-a8fb01f55944"
      },
      "outputs": [
        {
          "output_type": "execute_result",
          "data": {
            "application/vnd.google.colaboratory.intrinsic+json": {
              "type": "string"
            },
            "text/plain": [
              "'This is also a\\nperfect example of\\nmulti-line comments'"
            ]
          },
          "metadata": {},
          "execution_count": 3
        }
      ],
      "source": [
        "\"\"\"This is also a\n",
        "perfect example of\n",
        "multi-line comments\"\"\""
      ]
    },
    {
      "cell_type": "markdown",
      "metadata": {
        "id": "Knuf-QNUhxCu"
      },
      "source": [
        "# DocString in python"
      ]
    },
    {
      "cell_type": "markdown",
      "metadata": {
        "id": "FFE1RCOrhxCu"
      },
      "source": [
        "Docstring is short for documentation string.\n",
        "\n",
        "It is a string that occurs as the first statement in a module, function, class, or method definition."
      ]
    },
    {
      "cell_type": "code",
      "execution_count": 9,
      "metadata": {
        "colab": {
          "base_uri": "https://localhost:8080/"
        },
        "id": "9Z13cPbLhxCu",
        "outputId": "11bf0b07-df93-46ac-9bc1-c7e1cfd3312c"
      },
      "outputs": [
        {
          "output_type": "stream",
          "name": "stdout",
          "text": [
            "20\n"
          ]
        }
      ],
      "source": [
        "def double(num):\n",
        "    \"\"\"\n",
        "    function to double the number\n",
        "    \"\"\"\n",
        "    return 2 * num\n",
        "\n",
        "print( double(10))"
      ]
    },
    {
      "cell_type": "code",
      "execution_count": 10,
      "metadata": {
        "colab": {
          "base_uri": "https://localhost:8080/"
        },
        "id": "ASdBTmxFhxCv",
        "outputId": "dfdc6a18-5200-40f2-d0b8-9a98b46d9bd4"
      },
      "outputs": [
        {
          "output_type": "stream",
          "name": "stdout",
          "text": [
            "\n",
            "    function to double the number\n",
            "    \n"
          ]
        }
      ],
      "source": [
        "print (double.__doc__) #Docstring is available to us as the attribute __doc__ of the function"
      ]
    },
    {
      "cell_type": "markdown",
      "metadata": {
        "id": "0ZDvO9AThxCv"
      },
      "source": [
        "# Python Indentation"
      ]
    },
    {
      "cell_type": "markdown",
      "metadata": {
        "id": "6fPT_4cdhxCv"
      },
      "source": [
        "1. Most of the programming languages like C, C++, Java use braces { } to define a block of code. Python uses indentation.\n",
        "\n",
        "2. A code block (body of a function, loop etc.) starts with indentation and ends with the first unindented line. The amount of indentation is up to you, but it must be consistent throughout that block.\n",
        "\n",
        "3. Generally four whitespaces are used for indentation and is preferred over tabs."
      ]
    },
    {
      "cell_type": "code",
      "execution_count": 6,
      "metadata": {
        "colab": {
          "base_uri": "https://localhost:8080/"
        },
        "id": "iTLXF1KBhxCw",
        "outputId": "c3d664d7-30de-4ce1-e9ee-57d2c781e793"
      },
      "outputs": [
        {
          "output_type": "stream",
          "name": "stdout",
          "text": [
            "0\n",
            "1\n",
            "2\n",
            "3\n",
            "4\n",
            "5\n",
            "6\n",
            "7\n",
            "8\n",
            "9\n"
          ]
        }
      ],
      "source": [
        "for i in range(10):\n",
        "    print (i)"
      ]
    },
    {
      "cell_type": "markdown",
      "metadata": {
        "id": "xocegRsJhxCw"
      },
      "source": [
        "Indentation can be ignored in line continuation. But it's a good idea to always indent. It makes the code more readable."
      ]
    },
    {
      "cell_type": "code",
      "execution_count": 11,
      "metadata": {
        "colab": {
          "base_uri": "https://localhost:8080/"
        },
        "id": "wNlOwyWohxCw",
        "outputId": "3ffdd1a2-2730-4493-9600-8252fe04b650"
      },
      "outputs": [
        {
          "output_type": "stream",
          "name": "stdout",
          "text": [
            "Machine Learning\n"
          ]
        }
      ],
      "source": [
        "if True:\n",
        "    print (\"Machine Learning\")\n",
        "    c = \"AAIC\""
      ]
    },
    {
      "cell_type": "code",
      "execution_count": 12,
      "metadata": {
        "colab": {
          "base_uri": "https://localhost:8080/"
        },
        "id": "2_JrEpiChxCx",
        "outputId": "9d303f72-9484-4852-fa9e-6d1c25c638e2"
      },
      "outputs": [
        {
          "output_type": "stream",
          "name": "stdout",
          "text": [
            "Machine Learning\n"
          ]
        }
      ],
      "source": [
        "if True: print (\"Machine Learning\"); c = \"AAIC\""
      ]
    },
    {
      "cell_type": "markdown",
      "metadata": {
        "id": "CXCH8-rshxCx"
      },
      "source": [
        "# Python Statement"
      ]
    },
    {
      "cell_type": "markdown",
      "metadata": {
        "id": "qBmT9i5fhxCx"
      },
      "source": [
        "Instructions that a Python interpreter can execute are called statements."
      ]
    },
    {
      "cell_type": "markdown",
      "metadata": {
        "id": "WnvsHjeGhxCx"
      },
      "source": [
        "Examples:"
      ]
    },
    {
      "cell_type": "code",
      "execution_count": 13,
      "metadata": {
        "collapsed": true,
        "id": "BiL5s4mahxCx"
      },
      "outputs": [],
      "source": [
        " a = 1  #single statement"
      ]
    },
    {
      "cell_type": "markdown",
      "metadata": {
        "id": "VvKcju6VhxCy"
      },
      "source": [
        "# Multi-Line Statement"
      ]
    },
    {
      "cell_type": "markdown",
      "metadata": {
        "id": "3WpaahxKhxCy"
      },
      "source": [
        "In Python, end of a statement is marked by a newline character. But we can make a statement extend over multiple lines with the line continuation character (\\)."
      ]
    },
    {
      "cell_type": "code",
      "execution_count": 14,
      "metadata": {
        "collapsed": true,
        "id": "A_hlQWoKhxCy"
      },
      "outputs": [],
      "source": [
        "a = 1 + 2 + 3 + \\\n",
        "    4 + 5 + 6 + \\\n",
        "    7 + 8"
      ]
    },
    {
      "cell_type": "code",
      "execution_count": 15,
      "metadata": {
        "colab": {
          "base_uri": "https://localhost:8080/"
        },
        "id": "cMlEP8ElhxCy",
        "outputId": "4fa90dfd-a799-43c4-e007-ac9c3bf5f64d"
      },
      "outputs": [
        {
          "output_type": "stream",
          "name": "stdout",
          "text": [
            "36\n"
          ]
        }
      ],
      "source": [
        "print (a)"
      ]
    },
    {
      "cell_type": "code",
      "execution_count": 16,
      "metadata": {
        "colab": {
          "base_uri": "https://localhost:8080/"
        },
        "id": "Ef21pMpyhxCy",
        "outputId": "80393f6b-b7ab-474f-830e-b41b294d63e1"
      },
      "outputs": [
        {
          "output_type": "stream",
          "name": "stdout",
          "text": [
            "36\n"
          ]
        }
      ],
      "source": [
        "#another way is\n",
        "a = (1 + 2 + 3 +\n",
        "    4 + 5 + 6 + \n",
        "    7 + 8)\n",
        "print (a)"
      ]
    },
    {
      "cell_type": "code",
      "execution_count": 17,
      "metadata": {
        "collapsed": true,
        "id": "S-2BXUdehxCz"
      },
      "outputs": [],
      "source": [
        "a = 10; b = 20; c = 30   #put multiple statements in a single line using ;"
      ]
    }
  ],
  "metadata": {
    "kernelspec": {
      "display_name": "Python 2",
      "language": "python",
      "name": "python2"
    },
    "language_info": {
      "codemirror_mode": {
        "name": "ipython",
        "version": 2
      },
      "file_extension": ".py",
      "mimetype": "text/x-python",
      "name": "python",
      "nbconvert_exporter": "python",
      "pygments_lexer": "ipython2",
      "version": "2.7.13"
    },
    "colab": {
      "name": "2. comments, indentation and statements.ipynb",
      "provenance": [],
      "include_colab_link": true
    }
  },
  "nbformat": 4,
  "nbformat_minor": 0
}